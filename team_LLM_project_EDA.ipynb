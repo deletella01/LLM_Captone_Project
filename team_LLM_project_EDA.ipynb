{
 "cells": [
  {
   "cell_type": "code",
   "execution_count": 1,
   "metadata": {},
   "outputs": [],
   "source": [
    "import pandas as pd\n",
    "import numpy as np\n",
    "import matplotlib.pyplot as plt\n",
    "import seaborn as sns"
   ]
  },
  {
   "cell_type": "code",
   "execution_count": 2,
   "metadata": {},
   "outputs": [
    {
     "name": "stderr",
     "output_type": "stream",
     "text": [
      "C:\\Users\\Administrator\\AppData\\Local\\Temp\\ipykernel_1600\\2137935633.py:4: DtypeWarning: Columns (9,11) have mixed types. Specify dtype option on import or set low_memory=False.\n",
      "  for chunk in data:\n",
      "C:\\Users\\Administrator\\AppData\\Local\\Temp\\ipykernel_1600\\2137935633.py:4: DtypeWarning: Columns (9) have mixed types. Specify dtype option on import or set low_memory=False.\n",
      "  for chunk in data:\n",
      "C:\\Users\\Administrator\\AppData\\Local\\Temp\\ipykernel_1600\\2137935633.py:4: DtypeWarning: Columns (9) have mixed types. Specify dtype option on import or set low_memory=False.\n",
      "  for chunk in data:\n",
      "C:\\Users\\Administrator\\AppData\\Local\\Temp\\ipykernel_1600\\2137935633.py:4: DtypeWarning: Columns (9) have mixed types. Specify dtype option on import or set low_memory=False.\n",
      "  for chunk in data:\n",
      "C:\\Users\\Administrator\\AppData\\Local\\Temp\\ipykernel_1600\\2137935633.py:4: DtypeWarning: Columns (9) have mixed types. Specify dtype option on import or set low_memory=False.\n",
      "  for chunk in data:\n"
     ]
    }
   ],
   "source": [
    "all_chunks = []\n",
    "data = pd.read_csv('data/NUTRITION2001_2022.csv', chunksize=500000)\n",
    "\n",
    "for chunk in data:\n",
    "    # Extract the needed columns\n",
    "    cols_to_extract = ['REF_AREA:Geographic area', 'TIME_PERIOD:Time period', 'INDICATOR:Indicator', \n",
    "                    'RESIDENCE:Residence', 'MATERNAL_EDU_LVL:Mother\\'s Education Level', 'OBS_VALUE:Observation Value']\n",
    "    chunk = chunk[cols_to_extract]\n",
    "\n",
    "    # Rename columns\n",
    "    chunk = chunk.rename(columns={'REF_AREA:Geographic area':'Country'\n",
    "                                ,'TIME_PERIOD:Time period':'Year'\n",
    "                                ,'INDICATOR:Indicator':'Indicator'\n",
    "                                ,'RESIDENCE:Residence':'Residence'\n",
    "                                ,'MATERNAL_EDU_LVL:Mother\\'s Education Level':'Maternal_Education'\n",
    "                                ,'OBS_VALUE:Observation Value':'Observation_Value'})\n",
    "    \n",
    "    # Clean up values - remove colons and values before it\n",
    "    chunk['Country'] = chunk['Country'].apply(lambda x:x[x.index(':')+1:])\n",
    "    chunk['Indicator'] = chunk['Indicator'].apply(lambda x:x[x.index(':')+1:])\n",
    "    chunk['Residence'] = chunk['Residence'].apply(lambda x:x[x.index(':')+1:])\n",
    "    chunk['Maternal_Education'] = chunk['Maternal_Education'].apply(lambda x:x[x.index(':')+1:])\n",
    "\n",
    "    chunk = chunk[~chunk['Year'].str.contains('-', na=False)]\n",
    "\n",
    "    all_chunks.append(chunk)\n",
    "\n",
    "df = pd.concat(all_chunks)"
   ]
  },
  {
   "cell_type": "code",
   "execution_count": 3,
   "metadata": {},
   "outputs": [
    {
     "name": "stdout",
     "output_type": "stream",
     "text": [
      "<class 'pandas.core.frame.DataFrame'>\n",
      "Index: 2177962 entries, 0 to 2398605\n",
      "Data columns (total 6 columns):\n",
      " #   Column              Dtype  \n",
      "---  ------              -----  \n",
      " 0   Country             object \n",
      " 1   Year                object \n",
      " 2   Indicator           object \n",
      " 3   Residence           object \n",
      " 4   Maternal_Education  object \n",
      " 5   Observation_Value   float64\n",
      "dtypes: float64(1), object(5)\n",
      "memory usage: 116.3+ MB\n"
     ]
    }
   ],
   "source": [
    "df.info()"
   ]
  },
  {
   "cell_type": "code",
   "execution_count": 4,
   "metadata": {},
   "outputs": [
    {
     "data": {
      "text/plain": [
       "array([' Total', ' Rural', ' Urban'], dtype=object)"
      ]
     },
     "execution_count": 4,
     "metadata": {},
     "output_type": "execute_result"
    }
   ],
   "source": [
    "df['Residence'].unique()"
   ]
  },
  {
   "cell_type": "code",
   "execution_count": 5,
   "metadata": {},
   "outputs": [
    {
     "data": {
      "text/plain": [
       "array([' Total', ' None and Primary',\n",
       "       ' Secondary education (lower and upper secondary education)',\n",
       "       ' Secondary and Higher', ' Tertiary education',\n",
       "       ' Never attended an education programme / No schooling',\n",
       "       ' Primary education'], dtype=object)"
      ]
     },
     "execution_count": 5,
     "metadata": {},
     "output_type": "execute_result"
    }
   ],
   "source": [
    "df['Maternal_Education'].unique()"
   ]
  },
  {
   "cell_type": "code",
   "execution_count": 6,
   "metadata": {},
   "outputs": [
    {
     "data": {
      "text/plain": [
       "Country               0\n",
       "Year                  0\n",
       "Indicator             0\n",
       "Residence             0\n",
       "Maternal_Education    0\n",
       "Observation_Value     0\n",
       "dtype: int64"
      ]
     },
     "execution_count": 6,
     "metadata": {},
     "output_type": "execute_result"
    }
   ],
   "source": [
    "df.isnull().sum()"
   ]
  },
  {
   "cell_type": "code",
   "execution_count": 7,
   "metadata": {},
   "outputs": [],
   "source": [
    "african_countries = ['Algeria', 'Angola', 'Benin', 'Botswana', 'Burkina Faso', 'Burundi', 'Cabo Verde', \n",
    "\t\t\t'Cameroon', 'Central African Republic', 'Chad', 'Comoros', 'Ivory Coast', 'Djibouti', \n",
    "\t\t\t'Democratic Republic of the Congo', 'Egypt', 'Equatorial Guinea', 'Eritrea', 'Eswatini', \n",
    "\t\t\t'Ethiopia', 'Gabon', 'Gambia', 'Ghana', 'Guinea', 'Guinea-Bissau', 'Kenya', 'Lesotho', \n",
    "\t\t\t'Liberia', 'Libya', 'Madagascar', 'Malawi', 'Mali', 'Mauritania', 'Mauritius', 'Morocco', \n",
    "\t\t\t'Mozambique', 'Namibia', 'Niger', 'Nigeria', 'Republic of the Congo', 'Rwanda', \n",
    "\t\t\t'Sao Tome & Principe', 'Senegal', 'Seychelles', 'Sierra Leone', 'Somalia', 'South Africa', \n",
    "\t\t\t'South Sudan', 'Sudan', 'Tanzania', 'Togo', 'Tunisia', 'Uganda', 'Zambia', 'Zimbabwe']"
   ]
  },
  {
   "cell_type": "code",
   "execution_count": 8,
   "metadata": {},
   "outputs": [],
   "source": [
    "df['Country'] = df['Country'].str.strip()"
   ]
  },
  {
   "cell_type": "code",
   "execution_count": 9,
   "metadata": {},
   "outputs": [],
   "source": [
    "mask = df['Country'].isin(african_countries)\n",
    "nutri_africa = df[mask]"
   ]
  },
  {
   "cell_type": "code",
   "execution_count": 12,
   "metadata": {},
   "outputs": [
    {
     "data": {
      "text/html": [
       "<div>\n",
       "<style scoped>\n",
       "    .dataframe tbody tr th:only-of-type {\n",
       "        vertical-align: middle;\n",
       "    }\n",
       "\n",
       "    .dataframe tbody tr th {\n",
       "        vertical-align: top;\n",
       "    }\n",
       "\n",
       "    .dataframe thead th {\n",
       "        text-align: right;\n",
       "    }\n",
       "</style>\n",
       "<table border=\"1\" class=\"dataframe\">\n",
       "  <thead>\n",
       "    <tr style=\"text-align: right;\">\n",
       "      <th></th>\n",
       "      <th>Observation_Value</th>\n",
       "    </tr>\n",
       "  </thead>\n",
       "  <tbody>\n",
       "    <tr>\n",
       "      <th>count</th>\n",
       "      <td>932625.000000</td>\n",
       "    </tr>\n",
       "    <tr>\n",
       "      <th>mean</th>\n",
       "      <td>14.003128</td>\n",
       "    </tr>\n",
       "    <tr>\n",
       "      <th>std</th>\n",
       "      <td>79.263698</td>\n",
       "    </tr>\n",
       "    <tr>\n",
       "      <th>min</th>\n",
       "      <td>-3.100000</td>\n",
       "    </tr>\n",
       "    <tr>\n",
       "      <th>25%</th>\n",
       "      <td>1.200000</td>\n",
       "    </tr>\n",
       "    <tr>\n",
       "      <th>50%</th>\n",
       "      <td>4.500000</td>\n",
       "    </tr>\n",
       "    <tr>\n",
       "      <th>75%</th>\n",
       "      <td>16.200000</td>\n",
       "    </tr>\n",
       "    <tr>\n",
       "      <th>max</th>\n",
       "      <td>12103.400000</td>\n",
       "    </tr>\n",
       "  </tbody>\n",
       "</table>\n",
       "</div>"
      ],
      "text/plain": [
       "       Observation_Value\n",
       "count      932625.000000\n",
       "mean           14.003128\n",
       "std            79.263698\n",
       "min            -3.100000\n",
       "25%             1.200000\n",
       "50%             4.500000\n",
       "75%            16.200000\n",
       "max         12103.400000"
      ]
     },
     "execution_count": 12,
     "metadata": {},
     "output_type": "execute_result"
    }
   ],
   "source": [
    "nutri_africa.describe()"
   ]
  }
 ],
 "metadata": {
  "kernelspec": {
   "display_name": "base",
   "language": "python",
   "name": "python3"
  },
  "language_info": {
   "codemirror_mode": {
    "name": "ipython",
    "version": 3
   },
   "file_extension": ".py",
   "mimetype": "text/x-python",
   "name": "python",
   "nbconvert_exporter": "python",
   "pygments_lexer": "ipython3",
   "version": "3.11.5"
  }
 },
 "nbformat": 4,
 "nbformat_minor": 2
}
